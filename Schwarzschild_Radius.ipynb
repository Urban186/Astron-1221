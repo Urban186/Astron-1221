{
  "nbformat": 4,
  "nbformat_minor": 0,
  "metadata": {
    "colab": {
      "provenance": [],
      "authorship_tag": "ABX9TyMLB5y3mmdPztSwrscQiocr",
      "include_colab_link": true
    },
    "kernelspec": {
      "name": "python3",
      "display_name": "Python 3"
    },
    "language_info": {
      "name": "python"
    }
  },
  "cells": [
    {
      "cell_type": "markdown",
      "metadata": {
        "id": "view-in-github",
        "colab_type": "text"
      },
      "source": [
        "<a href=\"https://colab.research.google.com/github/Urban186/Astron-1221/blob/main/Schwarzschild_Radius.ipynb\" target=\"_parent\"><img src=\"https://colab.research.google.com/assets/colab-badge.svg\" alt=\"Open In Colab\"/></a>"
      ]
    },
    {
      "cell_type": "code",
      "execution_count": null,
      "metadata": {
        "id": "cwXDRE2QIrlb"
      },
      "outputs": [],
      "source": []
    },
    {
      "cell_type": "markdown",
      "source": [
        "$V = \\sqrt\\frac{GM}{R}$, this is the equation we use to calculate orbital velocity."
      ],
      "metadata": {
        "id": "UXoZKtqeIz1X"
      }
    },
    {
      "cell_type": "code",
      "source": [
        "import astropy.constants as const # import a python package to call the value of certain constants\n",
        "import astropy.units as u # import a python package to call certain units e.g. the mass of the Sun"
      ],
      "metadata": {
        "id": "A7nz60p6JJcK"
      },
      "execution_count": 1,
      "outputs": []
    },
    {
      "cell_type": "code",
      "source": [
        "M = 1 * u.solMass # define the mass of the Sun as a variable\n",
        "M = M.to(u.kg) #convert solar mass to kilograms\n",
        "print(M. to (u.kg)) # print the mass of the Sun in kg"
      ],
      "metadata": {
        "colab": {
          "base_uri": "https://localhost:8080/"
        },
        "id": "PKS1Axd4Jt8G",
        "outputId": "5ee790d5-22ed-419a-e01e-e3558cb6ed74"
      },
      "execution_count": 2,
      "outputs": [
        {
          "output_type": "stream",
          "name": "stdout",
          "text": [
            "1.988409870698051e+30 kg\n"
          ]
        }
      ]
    },
    {
      "cell_type": "code",
      "source": [
        "V = 1 * const.c # define V as the speed of light\n",
        "print (V.to(u.km/u.s)) # print V as the speed of light in kilometers per second"
      ],
      "metadata": {
        "colab": {
          "base_uri": "https://localhost:8080/"
        },
        "id": "kfbPQlPAJ5tF",
        "outputId": "0fa6b0c0-d140-4099-b674-7e376e124a84"
      },
      "execution_count": 3,
      "outputs": [
        {
          "output_type": "stream",
          "name": "stdout",
          "text": [
            "299792.458 km / s\n"
          ]
        }
      ]
    },
    {
      "cell_type": "code",
      "source": [
        "G = const.G # define G as the gravitational constant\n",
        "print (G.si) # print the gravitational contant in si units"
      ],
      "metadata": {
        "colab": {
          "base_uri": "https://localhost:8080/"
        },
        "id": "1oV1IHIyKi6o",
        "outputId": "8f697cd0-e2ec-4c00-dd89-4f8a2174b678"
      },
      "execution_count": 4,
      "outputs": [
        {
          "output_type": "stream",
          "name": "stdout",
          "text": [
            "  Name   = Gravitational constant\n",
            "  Value  = 6.6743e-11\n",
            "  Uncertainty  = 1.5e-15\n",
            "  Unit  = m3 / (kg s2)\n",
            "  Reference = CODATA 2018\n"
          ]
        }
      ]
    },
    {
      "cell_type": "code",
      "source": [
        "import numpy as np # import a python package to do math"
      ],
      "metadata": {
        "id": "DjJfYe3ZLCUl"
      },
      "execution_count": 5,
      "outputs": []
    },
    {
      "cell_type": "code",
      "source": [
        "R = G * M / V**2 # convert the begining equation to where we're solving for R\n",
        "print (R) # print R"
      ],
      "metadata": {
        "colab": {
          "base_uri": "https://localhost:8080/"
        },
        "id": "EVArQGcGLINu",
        "outputId": "4ed9d990-d267-4034-c914-b017b3a6e284"
      },
      "execution_count": 6,
      "outputs": [
        {
          "output_type": "stream",
          "name": "stdout",
          "text": [
            "1476.6250380501249 m\n"
          ]
        }
      ]
    }
  ]
}