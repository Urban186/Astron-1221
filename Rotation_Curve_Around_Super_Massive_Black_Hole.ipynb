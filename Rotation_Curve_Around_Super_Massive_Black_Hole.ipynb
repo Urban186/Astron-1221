{
  "nbformat": 4,
  "nbformat_minor": 0,
  "metadata": {
    "colab": {
      "provenance": [],
      "authorship_tag": "ABX9TyPiyNS9dWy+M+asuU41f+S+",
      "include_colab_link": true
    },
    "kernelspec": {
      "name": "python3",
      "display_name": "Python 3"
    },
    "language_info": {
      "name": "python"
    }
  },
  "cells": [
    {
      "cell_type": "markdown",
      "metadata": {
        "id": "view-in-github",
        "colab_type": "text"
      },
      "source": [
        "<a href=\"https://colab.research.google.com/github/Urban186/Astron-1221/blob/main/Rotation_Curve_Around_Super_Massive_Black_Hole.ipynb\" target=\"_parent\"><img src=\"https://colab.research.google.com/assets/colab-badge.svg\" alt=\"Open In Colab\"/></a>"
      ]
    },
    {
      "cell_type": "code",
      "execution_count": null,
      "metadata": {
        "id": "w0TdCENEaZfo"
      },
      "outputs": [],
      "source": []
    },
    {
      "cell_type": "markdown",
      "source": [
        "$V = \\sqrt\\frac{GM}{R}$, this is the equation that we use to calculate orbital velocity."
      ],
      "metadata": {
        "id": "4JhlNj4jaqAl"
      }
    },
    {
      "cell_type": "code",
      "source": [
        "import astropy.constants as const # we import astronomy constants, like the Gravitational Constant\n",
        "import astropy.units as u # we import astronomy units, like the mass of the Sun\n",
        "import numpy as np # we import numpy to be able to use mathematical operations"
      ],
      "metadata": {
        "id": "Nm_6F-xRbHLC"
      },
      "execution_count": 1,
      "outputs": []
    },
    {
      "cell_type": "markdown",
      "source": [
        "How to define a fucntion?"
      ],
      "metadata": {
        "id": "f8bY_FqXblOo"
      }
    },
    {
      "cell_type": "code",
      "source": [
        "def calculatingOrbitalVelocity(M, R): # we are defining the function of orbital velocity with what changes in the equation, like the mass or distance\n",
        "    \"\"\"\n",
        "    This is the function that calculates the orbital velocity\n",
        "    Input:\n",
        "    M, the mass of the central object\n",
        "    R, the orbital radius of the satellite\n",
        "    Output:\n",
        "    orbitalVelocity, the orbital velocity of the satellite\n",
        "    \"\"\"\n",
        "    orbitalVelocity = np.sqrt(const.G * M / R)\n",
        "    return orbitalVelocity"
      ],
      "metadata": {
        "id": "GJMZmS-lbiuc"
      },
      "execution_count": 8,
      "outputs": []
    },
    {
      "cell_type": "code",
      "source": [
        "# Below we define input M and R\n",
        "M = 1 * u.earthMass\n",
        "R = 1 * u.earthRad\n",
        "\n",
        "# Calculating orbital velocity of an eath satellite\n",
        "v_earthSatellite = calculatingOrbitalVelocity(M, R)\n",
        "print(v_earthSatellite.to(u.km/u.s))"
      ],
      "metadata": {
        "colab": {
          "base_uri": "https://localhost:8080/"
        },
        "id": "gNBEhKl-dPbK",
        "outputId": "34251ccb-517c-4c0e-e218-595652147b31"
      },
      "execution_count": 11,
      "outputs": [
        {
          "output_type": "stream",
          "name": "stdout",
          "text": [
            "7.905388234385281 km / s\n"
          ]
        }
      ]
    },
    {
      "cell_type": "markdown",
      "source": [
        "We are going to introduce the concept of an array"
      ],
      "metadata": {
        "id": "xZnVh5WxfHcf"
      }
    },
    {
      "cell_type": "code",
      "source": [
        "# Orbital radius of the eight solar system planets from inside out, in a.u\n",
        "# Mercury, Venus, Earth, Mars, Jupiter, Saturn, Uranus, Neptune\n",
        "R_planet_arr = np.array([0.4, .7, 1.0, 1.5, 5.2, 9.6, 19.2, 30.1]) * u.au"
      ],
      "metadata": {
        "id": "LAcChGhofGQR"
      },
      "execution_count": 13,
      "outputs": []
    },
    {
      "cell_type": "code",
      "source": [
        "# Now we calculate the orbital velocities for the eight planets\n",
        "M_sun = 1 * u.solMass\n",
        "v_planets_arr = calculatingOrbitalVelocity(M_sun, R_planet_arr)\n",
        "print(v_planets_arr.to(u.km/u.s))"
      ],
      "metadata": {
        "colab": {
          "base_uri": "https://localhost:8080/"
        },
        "id": "oOfnriqMgTDf",
        "outputId": "4330a40e-490d-41d1-8ea1-926808b04d7c"
      },
      "execution_count": 16,
      "outputs": [
        {
          "output_type": "stream",
          "name": "stdout",
          "text": [
            "[47.09373279 35.5995158  29.78469183 24.31909904 13.06145141  9.61296795\n",
            "  6.79739483  5.42887526] km / s\n"
          ]
        }
      ]
    },
    {
      "cell_type": "code",
      "source": [
        "# prompt: can you help me with plotting v_planet_arr and R_planet_arr?\n",
        "\n",
        "import matplotlib.pyplot as plt # importing plotting package\n",
        "\n",
        "plt.plot(R_planet_arr, v_planets_arr.to(u.km/u.s)) # plotting velocity vs. orbital radius\n",
        "plt.xlabel('Orbital Radius (AU)') # add X axis label\n",
        "plt.ylabel('Orbital Velocity (km/s)') # add Y axis label\n",
        "plt.title('Orbital Velocity vs. Orbital Radius') # add label for the graph\n",
        "plt.show()\n"
      ],
      "metadata": {
        "colab": {
          "base_uri": "https://localhost:8080/",
          "height": 472
        },
        "id": "dPUgCZyChWJR",
        "outputId": "95129d4b-af5e-45c7-e836-b6ac946c0da6"
      },
      "execution_count": 18,
      "outputs": [
        {
          "output_type": "display_data",
          "data": {
            "text/plain": [
              "<Figure size 640x480 with 1 Axes>"
            ],
            "image/png": "[encoded data removed]"
          },
          "metadata": {}
        }
      ]
    },
    {
      "cell_type": "markdown",
      "source": [
        "Mass of the central black hole of the Milky Way Galaxy: 4.297 million solar masses.\n",
        "The radius of the Milky Way Galaxy is 52,850 light years, or 30 kiloparsecs.\n",
        "1 kiloparsec = 3,260 light years"
      ],
      "metadata": {
        "id": "Zv5MVYZvjBJP"
      }
    },
    {
      "cell_type": "code",
      "source": [
        "R_distancefromblackhole = np.array([1, 2, 3, 4, 5, 6, 7, 8, 9, 10, 11, 12, 13, 14, 15, 16, 17, 18, 19, 20, 21, 22, 23, 24, 25, 26, 27, 28, 29, 30]) * u.kiloparsec\n",
        "M_blackhole = 4,297,000 * u.solMass\n"
      ],
      "metadata": {
        "id": "0FCDpoiTjd_b"
      },
      "execution_count": null,
      "outputs": []
    }
  ]
}